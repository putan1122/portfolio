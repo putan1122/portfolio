{
  "cells": [
    {
      "cell_type": "code",
      "execution_count": null,
      "metadata": {
        "id": "z6bBuc3UGVMF"
      },
      "outputs": [],
      "source": [
        "!pip install tensorflow==1.14\n",
        "!pip install tensorflow-gpu==1.14\n",
        "!pip install keras==2.3.1\n",
        "!pip install bert4keras"
      ]
    },
    {
      "cell_type": "markdown",
      "metadata": {
        "id": "hDDfsoO97Pip"
      },
      "source": []
    },
    {
      "cell_type": "code",
      "execution_count": 3,
      "metadata": {
        "colab": {
          "base_uri": "https://localhost:8080/"
        },
        "id": "t1rGrmFjOr_2",
        "outputId": "a71f8482-10fa-4f31-d266-ac1bd07503bf"
      },
      "outputs": [
        {
          "name": "stdout",
          "output_type": "stream",
          "text": [
            "Mounted at /content/drive\n"
          ]
        }
      ],
      "source": [
        "from google.colab import drive\n",
        "drive.mount('/content/drive')"
      ]
    },
    {
      "cell_type": "code",
      "execution_count": 4,
      "metadata": {
        "colab": {
          "base_uri": "https://localhost:8080/"
        },
        "id": "j3ti8069PL_u",
        "outputId": "b3aa5e3b-8310-4e2a-ae8c-2b1d5f1e7e66"
      },
      "outputs": [
        {
          "name": "stdout",
          "output_type": "stream",
          "text": [
            "example.dev  example.test  example.train  ner.dev  ner.train\n"
          ]
        }
      ],
      "source": [
        "\n",
        "!ls \"/content/drive/My Drive/ner/data\""
      ]
    },
    {
      "cell_type": "code",
      "execution_count": null,
      "metadata": {
        "id": "YLlsxULRFK0k"
      },
      "outputs": [],
      "source": [
        "import numpy as np\n",
        "from bert4keras.backend import keras, K\n",
        "from bert4keras.models import build_transformer_model\n",
        "from bert4keras.tokenizers import Tokenizer\n",
        "from bert4keras.optimizers import Adam\n",
        "from bert4keras.snippets import sequence_padding, DataGenerator\n",
        "from bert4keras.snippets import open, ViterbiDecoder, to_array\n",
        "from bert4keras.layers import ConditionalRandomField\n",
        "from keras.layers import Dense\n",
        "from keras.models import Model\n",
        "from tqdm import tqdm\n",
        "import pandas as pd"
      ]
    },
    {
      "cell_type": "code",
      "execution_count": 6,
      "metadata": {
        "id": "kQQ9zwy2IEZ2"
      },
      "outputs": [],
      "source": [
        "# define hyperparameters.\n",
        "maxlen = 256\n",
        "epochs = 1\n",
        "batch_size = 8\n",
        "bert_layers = 12\n",
        "learning_rate = 2e-5  \n",
        "crf_lr_multiplier = 1000  \n",
        "categories = set()"
      ]
    },
    {
      "cell_type": "code",
      "execution_count": 7,
      "metadata": {
        "id": "iJx1ZbYlIKiF"
      },
      "outputs": [],
      "source": [
        "# Configuration files for pretrained model.\n",
        "config_path = '/content/drive/My Drive/ner/bert/bert_config.json'\n",
        "checkpoint_path = '/content/drive/My Drive/ner/bert/bert_model.ckpt'\n",
        "dict_path = '/content/drive/My Drive/ner/bert/vocab.txt'"
      ]
    },
    {
      "cell_type": "code",
      "execution_count": 30,
      "metadata": {
        "id": "cU2PjEfgIOV6"
      },
      "outputs": [],
      "source": [
        "def load_data(filename):\n",
        "    \"\"\"load data\n",
        "    format：[text, (start, end, label), (start, end, label), ...]，\n",
        "              text[start:end + 1] is an entity of type label.\n",
        "    \"\"\"\n",
        "    D = []\n",
        "    with open(filename, encoding='utf-8') as f:\n",
        "        f = f.read()\n",
        "        for l in f.split('\\n\\n'):\n",
        "            if not l:\n",
        "                continue\n",
        "            d = ['']\n",
        "            #print(l.split(\"\\n\"))\n",
        "            for i, c in enumerate(l.split('\\n')):\n",
        "                if len(c.split(' ')) != 2:\n",
        "                    continue\n",
        "                char, flag = c.split(' ')\n",
        "                d[0] += char\n",
        "                if flag[0] == 'B':\n",
        "                    d.append([i, i, flag[2:]])\n",
        "                    categories.add(flag[2:])\n",
        "                elif flag[0] == 'I':\n",
        "                    d[-1][1] = i\n",
        "            D.append(d)\n",
        "    return D"
      ]
    },
    {
      "cell_type": "code",
      "execution_count": 31,
      "metadata": {
        "id": "7LA4fISN85c0"
      },
      "outputs": [],
      "source": [
        "test_data = load_data('/content/drive/My Drive/ner/data/example.test')"
      ]
    },
    {
      "cell_type": "code",
      "execution_count": 34,
      "metadata": {
        "id": "A98ZxpFSIT44"
      },
      "outputs": [],
      "source": [
        "train_data = load_data('/content/drive/My Drive/ner/data/example.train')\n",
        "valid_data = load_data('/content/drive/My Drive/ner/data/example.dev')\n",
        "test_data = load_data('/content/drive/My Drive/ner/data/example.test')\n",
        "categories = list(sorted(categories))"
      ]
    },
    {
      "cell_type": "code",
      "execution_count": 36,
      "metadata": {
        "colab": {
          "base_uri": "https://localhost:8080/"
        },
        "id": "XwYS36jWAPTC",
        "outputId": "b5a29b98-25e9-4d88-b21f-c8f2b84609da"
      },
      "outputs": [
        {
          "name": "stdout",
          "output_type": "stream",
          "text": [
            "train data size: 20864\n",
            "valid data size: 2318\n",
            "test data size: 4636\n"
          ]
        }
      ],
      "source": [
        "print(\"train data size: {}\".format(len(train_data)))\n",
        "print(\"valid data size: {}\".format(len(valid_data)))\n",
        "print(\"test data size: {}\".format(len(test_data)))"
      ]
    },
    {
      "cell_type": "code",
      "execution_count": 32,
      "metadata": {
        "colab": {
          "base_uri": "https://localhost:8080/"
        },
        "id": "7lxcFELal07_",
        "outputId": "77b5d8ba-495f-4f94-8d14-f3afc4454bc3"
      },
      "outputs": [
        {
          "data": {
            "text/plain": [
              "{'LOC', 'ORG', 'PER'}"
            ]
          },
          "execution_count": 32,
          "metadata": {},
          "output_type": "execute_result"
        }
      ],
      "source": [
        "categories"
      ]
    },
    {
      "cell_type": "code",
      "execution_count": 83,
      "metadata": {
        "id": "uJOv2agpQCca"
      },
      "outputs": [],
      "source": [
        "class data_generator(DataGenerator):\n",
        "    def __iter__(self, random=False):\n",
        "        batch_token_ids, batch_segment_ids, batch_labels = [], [], []\n",
        "        for is_end, d in self.sample(random):\n",
        "            tokens = tokenizer.tokenize(d[0], maxlen=maxlen)\n",
        "            mapping = tokenizer.rematch(d[0], tokens)\n",
        "            start_mapping = {j[0]: i for i, j in enumerate(mapping) if j}\n",
        "            end_mapping = {j[-1]: i for i, j in enumerate(mapping) if j}\n",
        "            token_ids = tokenizer.tokens_to_ids(tokens)\n",
        "            segment_ids = [0] * len(token_ids)\n",
        "            labels = np.zeros(len(token_ids))\n",
        "            for start, end, label in d[1:]:\n",
        "                if start in start_mapping and end in end_mapping:\n",
        "                    start = start_mapping[start]\n",
        "                    end = end_mapping[end]\n",
        "                    # print(categories.index(label))\n",
        "                    # print(\"start:{}\".format(start))\n",
        "                    # print(\"end:{}\".format(end))\n",
        "                    labels[start] = categories.index(label) * 2 + 1\n",
        "                    labels[start + 1:end + 1] = categories.index(label) * 2 + 2\n",
        "                    # print(labels)\n",
        "            batch_token_ids.append(token_ids)\n",
        "            batch_segment_ids.append(segment_ids)\n",
        "            batch_labels.append(labels)\n",
        "            if len(batch_token_ids) == self.batch_size or is_end:\n",
        "                batch_token_ids = sequence_padding(batch_token_ids)\n",
        "                batch_segment_ids = sequence_padding(batch_segment_ids)\n",
        "                batch_labels = sequence_padding(batch_labels)\n",
        "                yield [batch_token_ids, batch_segment_ids], batch_labels\n",
        "                batch_token_ids, batch_segment_ids, batch_labels = [], [], []"
      ]
    },
    {
      "cell_type": "code",
      "execution_count": null,
      "metadata": {
        "id": "1D-ZMF1hQJ_K"
      },
      "outputs": [],
      "source": [
        "model = build_transformer_model(\n",
        "    config_path,\n",
        "    checkpoint_path,\n",
        ")\n",
        "\n",
        "output_layer = 'Transformer-%s-FeedForward-Norm' % (bert_layers - 1)\n",
        "output = model.get_layer(output_layer).output\n",
        "\n",
        "# Please add a layer of neural network, the dimension is 512.\n",
        "\n",
        "#**********\n",
        "\n",
        "#**********\n",
        "\n",
        "output = Dense(len(categories) * 2 + 1)(output)\n",
        "CRF = ConditionalRandomField(lr_multiplier=crf_lr_multiplier)\n",
        "output = CRF(output)\n",
        "\n",
        "model = Model(model.input, output)\n",
        "model.summary()\n",
        "\n",
        "model.compile(\n",
        "    loss=CRF.sparse_loss,\n",
        "    optimizer=Adam(learning_rate),\n",
        "    metrics=[CRF.sparse_accuracy]\n",
        ")\n",
        "\n",
        "\n",
        "# def target_score(self, y_true, y_pred):\n",
        "#     \"\"\"\n",
        "#     point_score = tf.einsum('bni,bni->b', y_true, y_pred) \n",
        "#     trans_score = tf.einsum(\n",
        "#         'bni,ij,bnj->b', y_true[:, :-1], self.trans, y_true[:, 1:]\n",
        "#     ) \n",
        "#     return point_score + trans_score\n",
        "\n",
        "# def dense_loss(self, y_true, y_pred):\n",
        "#         mask = K.all(K.greater(y_pred, -1e6), axis=2, keepdims=True)\n",
        "#         mask = K.cast(mask, K.floatx())\n",
        "#         y_true, y_pred = y_true * mask, y_pred * mask\n",
        "#         target_score = self.target_score(y_true, y_pred)\n",
        "#         init_states = [y_pred[:, 0]]\n",
        "#         y_pred = K.concatenate([y_pred, mask], axis=2)\n",
        "#         input_length = K.int_shape(y_pred[:, 1:])[1]\n",
        "#         log_norm, _, _ = K.rnn(\n",
        "#             self.log_norm_step,\n",
        "#             y_pred[:, 1:],\n",
        "#             init_states,\n",
        "#             input_length=input_length\n",
        "#         )  \n",
        "#         log_norm = K.logsumexp(log_norm, 1)  \n",
        "#         return log_norm - target_score\n",
        "\n",
        "#     def sparse_loss(self, y_true, y_pred):\n",
        "#         y_true = K.reshape(y_true, K.shape(y_pred)[:-1])\n",
        "#         y_true = K.cast(y_true, 'int32')\n",
        "#         y_true = K.one_hot(y_true, K.shape(self.trans)[0])\n",
        "#         return self.dense_loss(y_true, y_pred)"
      ]
    },
    {
      "cell_type": "code",
      "execution_count": 88,
      "metadata": {
        "id": "l6cNt5JsRtDe"
      },
      "outputs": [],
      "source": [
        "class NamedEntityRecognizer(ViterbiDecoder):\n",
        "    def recognize(self, text):\n",
        "        tokens = tokenizer.tokenize(text, maxlen=512)\n",
        "        mapping = tokenizer.rematch(text, tokens)\n",
        "        token_ids = tokenizer.tokens_to_ids(tokens)\n",
        "        segment_ids = [0] * len(token_ids)\n",
        "        token_ids, segment_ids = to_array([token_ids], [segment_ids])\n",
        "        nodes = model.predict([token_ids, segment_ids])[0]\n",
        "        labels = self.decode(nodes)\n",
        "        entities, starting = [], False\n",
        "        for i, label in enumerate(labels):\n",
        "            if label > 0:\n",
        "                if label % 2 == 1:\n",
        "                    starting = True\n",
        "                    entities.append([[i], categories[(label - 1) // 2]])\n",
        "                elif starting:\n",
        "                    entities[-1][0].append(i)\n",
        "                else:\n",
        "                    starting = False\n",
        "            else:\n",
        "                starting = False\n",
        "        return [(mapping[w[0]][0], mapping[w[-1]][-1], l) for w, l in entities]\n"
      ]
    },
    {
      "cell_type": "code",
      "execution_count": 89,
      "metadata": {
        "id": "6S25RQVVRuUw"
      },
      "outputs": [],
      "source": [
        "NER = NamedEntityRecognizer(trans=K.eval(CRF.trans), starts=[0], ends=[0])"
      ]
    },
    {
      "cell_type": "markdown",
      "metadata": {
        "id": "bWNFX6HPJiov"
      },
      "source": [
        "![image.png](data:image/png;base64,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)"
      ]
    },
    {
      "cell_type": "markdown",
      "metadata": {
        "id": "P6WphDnbJsG1"
      },
      "source": [
        "![image.png](data:image/png;base64,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)"
      ]
    },
    {
      "cell_type": "code",
      "execution_count": 90,
      "metadata": {
        "id": "Voj97hCmRzXm"
      },
      "outputs": [],
      "source": [
        "def evaluate(data):\n",
        "    X, Y, Z = 1e-10, 1e-10, 1e-10\n",
        "    for d in tqdm(data, ncols=100):\n",
        "        R = set(NER.recognize(d[0]))\n",
        "        T = set([tuple(i) for i in d[1:]])\n",
        "        X += len(R & T) # true predict number.\n",
        "        Y += len(R) # predict number.\n",
        "        Z += len(T) # true number.\n",
        "    f1, precision, recall = 2 * X / (Y + Z), X / Y, X / Z\n",
        "    return f1, precision, recall\n",
        "\n",
        "\n",
        "class Evaluator(keras.callbacks.Callback):\n",
        "    def __init__(self):\n",
        "        self.best_val_f1 = 0\n",
        "\n",
        "    def on_epoch_end(self, epoch, logs=None):\n",
        "        trans = K.eval(CRF.trans)\n",
        "        NER.trans = trans\n",
        "        f1, precision, recall = evaluate(valid_data)\n",
        "        # Save the optimal model.\n",
        "        if f1 >= self.best_val_f1:\n",
        "            self.best_val_f1 = f1\n",
        "            model.save_weights('/content/drive/My Drive/ner/bert/best_model.weights')\n",
        "        print(\n",
        "            'valid:  f1: %.5f, precision: %.5f, recall: %.5f, best f1: %.5f\\n' %\n",
        "            (f1, precision, recall, self.best_val_f1)\n",
        "        )\n",
        "        f1, precision, recall = evaluate(test_data)\n",
        "        print(\n",
        "            'test:  f1: %.5f, precision: %.5f, recall: %.5f\\n' %\n",
        "            (f1, precision, recall)\n",
        "        )"
      ]
    },
    {
      "cell_type": "code",
      "execution_count": null,
      "metadata": {
        "colab": {
          "base_uri": "https://localhost:8080/"
        },
        "id": "6XXvtdrhR2dO",
        "outputId": "7f05d11b-ac3f-4af2-a180-bad29cefc708"
      },
      "outputs": [
        {
          "name": "stdout",
          "output_type": "stream",
          "text": [
            "<class '__main__.data_generator'>\n",
            "WARNING:tensorflow:From /usr/local/lib/python3.7/dist-packages/keras/backend/tensorflow_backend.py:422: The name tf.global_variables is deprecated. Please use tf.compat.v1.global_variables instead.\n",
            "\n"
          ]
        },
        {
          "name": "stderr",
          "output_type": "stream",
          "text": [
            "WARNING:tensorflow:From /usr/local/lib/python3.7/dist-packages/keras/backend/tensorflow_backend.py:422: The name tf.global_variables is deprecated. Please use tf.compat.v1.global_variables instead.\n",
            "\n"
          ]
        },
        {
          "name": "stdout",
          "output_type": "stream",
          "text": [
            "Epoch 1/1\n",
            "1547/2608 [================>.............] - ETA: 4:46 - loss: 1.6099 - sparse_accuracy: 0.9700"
          ]
        }
      ],
      "source": [
        "flag = \"train\"\n",
        "if flag == \"train\":\n",
        "    evaluator = Evaluator()\n",
        "    train_generator = data_generator(train_data, batch_size)\n",
        "    print(type(train_generator))\n",
        "\n",
        "    model.fit(\n",
        "        train_generator.forfit(),\n",
        "        steps_per_epoch=len(train_generator),\n",
        "        epochs=epochs,\n",
        "        callbacks=[evaluator]\n",
        "    )\n",
        "\n",
        "else:\n",
        "    model.load_weights('/content/drive/My Drive/ner/bert/best_model.weights')\n",
        "    NER.trans = K.eval(CRF.trans)"
      ]
    },
    {
      "cell_type": "code",
      "execution_count": null,
      "metadata": {
        "colab": {
          "base_uri": "https://localhost:8080/"
        },
        "id": "qh_-4RHCrKLD",
        "outputId": "a8179fbb-c326-4a23-c88c-0f34cf6b7529"
      },
      "outputs": [
        {
          "data": {
            "text/plain": [
              "[(9, 11, 'ORG'), (14, 16, 'ORG')]"
            ]
          },
          "execution_count": 38,
          "metadata": {},
          "output_type": "execute_result"
        }
      ],
      "source": [
        "NER.recognize(\"A case of pulmonary embolism presenting as recurrent fainting misdiagnosed as coronary heart disease\")"
      ]
    },
    {
      "cell_type": "code",
      "execution_count": 5,
      "metadata": {
        "id": "PyAE5F0-uH2A"
      },
      "outputs": [],
      "source": [
        "df = pd.read_excel(\"/content/drive/My Drive/ner/misd2019-2022.xlsx\")\n",
        "df_train = df[:5000]\n",
        "df_dev = df[5000:]\n",
        "\n",
        "\n",
        "w_train = open(\"/content/drive/My Drive/ner/ner.train\", \"w\", encoding=\"utf-8\")\n",
        "w_dev = open(\"/content/drive/My Drive/ner/ner.dev\", \"w\", encoding=\"utf-8\")\n",
        "\n",
        "def write(df, w):\n",
        "  for _, row in df.iterrows():\n",
        "      sent = row[\"title\"]\n",
        "      word_2 = row[\"TrueDisease\"]\n",
        "      word_3 = row[\"MisdiagnosedDisease\"]\n",
        "      try:\n",
        "          s_index = sent.find(word_2)\n",
        "      except:\n",
        "          continue\n",
        "      target_1_index = []\n",
        "      target_2_index = []\n",
        "      if s_index == -1:\n",
        "          continue\n",
        "      e_index = len(word_2) - 1 + s_index\n",
        "      target_1_index = [i for i in range(s_index, e_index+1)]\n",
        "      \n",
        "      s_index = sent.find(word_3)\n",
        "      if s_index != -1:\n",
        "          e_index = len(word_3) - 1 + s_index\n",
        "          target_2_index =  [i for i in range(s_index, e_index+1)]\n",
        "      \n",
        "      j = 0\n",
        "      index2BIO = dict()\n",
        "      for i in target_1_index:\n",
        "          if j == 0:\n",
        "              index2BIO[i] = \"B-ORG\"\n",
        "          else:\n",
        "              index2BIO[i] = \"I-ORG\"\n",
        "              \n",
        "          j += 1\n",
        "      \n",
        "      j = 0\n",
        "      for i in target_2_index:\n",
        "          if j == 0:\n",
        "              index2BIO[i] = \"B-ORG\"\n",
        "          else:\n",
        "              index2BIO[i] = \"I-ORG\"\n",
        "              \n",
        "          j += 1\n",
        "          \n",
        "      index = 0\n",
        "      for word in sent:\n",
        "          BIO = index2BIO.get(index, \"O\")\n",
        "          index += 1\n",
        "          \n",
        "          w.write(word + \" \" + BIO + \"\\n\")\n",
        "          \n",
        "      w.write(\"\\n\")\n",
        "          \n",
        "  w.close()\n",
        "\n",
        "write(df_train, w_train)\n",
        "write(df_dev, w_dev)"
      ]
    },
    {
      "cell_type": "code",
      "execution_count": null,
      "metadata": {
        "id": "qGicSHz1kmnN"
      },
      "outputs": [],
      "source": [
        "evaluator = Evaluator()"
      ]
    },
    {
      "cell_type": "code",
      "execution_count": null,
      "metadata": {
        "id": "RS7t4P1KlX-8"
      },
      "outputs": [],
      "source": [
        "train_data = load_data('/content/drive/My Drive/ner/data/ner.train')\n",
        "valid_data = load_data('/content/drive/My Drive/ner/data/ner.dev')\n",
        "test_data = load_data('/content/drive/My Drive/ner/data/ner.dev')"
      ]
    },
    {
      "cell_type": "code",
      "execution_count": null,
      "metadata": {
        "id": "Swjil5uVkpMH"
      },
      "outputs": [],
      "source": [
        "train_generator = data_generator(train_data, batch_size)"
      ]
    },
    {
      "cell_type": "code",
      "execution_count": null,
      "metadata": {
        "colab": {
          "base_uri": "https://localhost:8080/"
        },
        "id": "K2KJdejWpoZa",
        "outputId": "1cda513d-6412-43a3-ad54-ea96dffd0ed6"
      },
      "outputs": [
        {
          "name": "stdout",
          "output_type": "stream",
          "text": [
            "Epoch 1/2\n",
            "558/558 [==============================] - 88s 158ms/step - loss: 2.2955 - sparse_accuracy: 0.7396\n",
            "[[ 0.9473287   0.0515274  -4.726325    1.3650935  -6.3565335  -0.11468404\n",
            "  -4.112891  ]\n",
            " [-2.681078   -0.44777942  2.3017228  -2.2286022  -5.998519   -3.1719942\n",
            "  -4.1608257 ]\n",
            " [-1.7708175   0.03332052  2.1540349  -1.4768354  -5.0469046  -0.7964031\n",
            "  -3.76351   ]\n",
            " [-3.343561   -4.1050997  -2.825257   -2.2257075   3.3898852  -2.0895452\n",
            "  -3.4975882 ]\n",
            " [-2.6851478  -2.6905947  -5.4146385  -4.5759325   2.624588   -2.901232\n",
            "  -5.2661414 ]\n",
            " [-2.8323023  -2.7785425  -2.652873   -2.0954735  -4.609475   -2.0388846\n",
            "   3.181094  ]\n",
            " [-1.0997393  -2.154461   -3.2669022  -1.220954   -4.0416374  -1.7901453\n",
            "   2.9059687 ]]\n"
          ]
        },
        {
          "name": "stderr",
          "output_type": "stream",
          "text": [
            "100%|████████████████████████████████████████████████████████████| 928/928 [00:07<00:00, 118.10it/s]\n"
          ]
        },
        {
          "name": "stdout",
          "output_type": "stream",
          "text": [
            "valid:  f1: 0.80560, precision: 0.81863, recall: 0.79297, best f1: 0.80560\n",
            "\n"
          ]
        },
        {
          "name": "stderr",
          "output_type": "stream",
          "text": [
            "100%|████████████████████████████████████████████████████████████| 928/928 [00:08<00:00, 114.95it/s]\n"
          ]
        },
        {
          "name": "stdout",
          "output_type": "stream",
          "text": [
            "test:  f1: 0.80560, precision: 0.81863, recall: 0.79297\n",
            "\n",
            "Epoch 2/2\n",
            "558/558 [==============================] - 85s 152ms/step - loss: 1.3568 - sparse_accuracy: 0.7503\n",
            "[[ 0.9694787  -0.08834597 -4.823507    1.2361585  -6.832543   -0.26103428\n",
            "  -4.2393875 ]\n",
            " [-2.9463437  -0.44839105  2.261362   -2.265731   -6.007069   -3.1724675\n",
            "  -4.1620455 ]\n",
            " [-1.8707445   0.03318083  2.1467285  -1.483316   -5.048954   -0.79654473\n",
            "  -3.7641087 ]\n",
            " [-3.2942924  -4.119394   -2.9663699  -2.93814     3.2498598  -2.14217\n",
            "  -3.6520736 ]\n",
            " [-2.8494294  -2.7440376  -5.5663376  -4.5575824   2.7009928  -2.9419036\n",
            "  -5.5266714 ]\n",
            " [-3.1005218  -2.7793472  -2.6575413  -2.227333   -4.6723466  -2.0390148\n",
            "   3.1412127 ]\n",
            " [-1.1834795  -2.1545393  -3.2671509  -1.2471675  -4.045811   -1.7901453\n",
            "   2.9035938 ]]\n"
          ]
        },
        {
          "name": "stderr",
          "output_type": "stream",
          "text": [
            "100%|████████████████████████████████████████████████████████████| 928/928 [00:07<00:00, 119.44it/s]\n"
          ]
        },
        {
          "name": "stdout",
          "output_type": "stream",
          "text": [
            "valid:  f1: 0.81019, precision: 0.82004, recall: 0.80057, best f1: 0.81019\n",
            "\n"
          ]
        },
        {
          "name": "stderr",
          "output_type": "stream",
          "text": [
            "100%|████████████████████████████████████████████████████████████| 928/928 [00:07<00:00, 118.88it/s]"
          ]
        },
        {
          "name": "stdout",
          "output_type": "stream",
          "text": [
            "test:  f1: 0.81019, precision: 0.82004, recall: 0.80057\n",
            "\n"
          ]
        },
        {
          "name": "stderr",
          "output_type": "stream",
          "text": [
            "\n"
          ]
        },
        {
          "data": {
            "text/plain": [
              "<keras.callbacks.callbacks.History at 0x7fcd7e6c0610>"
            ]
          },
          "execution_count": 37,
          "metadata": {},
          "output_type": "execute_result"
        }
      ],
      "source": [
        "model.fit(\n",
        "        train_generator.forfit(),\n",
        "        steps_per_epoch=len(train_generator),\n",
        "        epochs=2,\n",
        "        callbacks=[evaluator]\n",
        ")"
      ]
    },
    {
      "cell_type": "code",
      "execution_count": null,
      "metadata": {
        "id": "8IdM4Gn4LK5j"
      },
      "outputs": [],
      "source": [
        "NER.recognize(\"A case of pulmonary embolism presenting as recurrent fainting misdiagnosed as coronary heart disease\")"
      ]
    },
    {
      "cell_type": "markdown",
      "metadata": {
        "id": "7U7hNkELLQCT"
      },
      "source": []
    }
  ],
  "metadata": {
    "accelerator": "GPU",
    "colab": {
      "collapsed_sections": [],
      "name": "bert_crf_ner_2.ipynb",
      "provenance": []
    },
    "kernelspec": {
      "display_name": "Python 3",
      "name": "python3"
    },
    "language_info": {
      "name": "python"
    }
  },
  "nbformat": 4,
  "nbformat_minor": 0
}
